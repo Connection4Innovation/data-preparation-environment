{
 "cells": [
  {
   "cell_type": "code",
   "execution_count": 1,
   "id": "c5321071",
   "metadata": {},
   "outputs": [],
   "source": [
    "import pandas as pd\n",
    "import numpy as np\n",
    "\n",
    "ghg = pd.read_csv('./input/emissioni_gas_serra.tsv', sep='\\t')\n",
    "\n",
    "countries = ghg.iloc[:, 0].values\n",
    "ghg_19 = ghg.iloc[:, -1].values\n",
    "\n",
    "ghg_19_parsed = []\n",
    "\n",
    "for i in range(len(ghg_19)):\n",
    "    k = ghg_19[i].split(' ')\n",
    "    ghg_19_parsed.append(k[0])\n",
    "    \n",
    "ghg_19 = np.array(ghg_19_parsed)\n",
    "ghg_19 = ghg_19.astype(float)\n",
    "ghg_latest = pd.DataFrame({\"country\": countries,\n",
    "                           \"ghg_percapita\": ghg_19, })  \n",
    "\n",
    "ghg_latest.drop(11, inplace=True)\n",
    "ghg_latest.drop(12, inplace=True)\n",
    "\n",
    "ghg_latest = ghg_latest.sort_values(by='ghg_percapita')\n",
    "\n",
    "\n",
    "rec = pd.read_csv('./input/recycling.tsv', sep='\\t')\n",
    "\n",
    "countries = rec.iloc[:, 0].values\n",
    "countries_parsed = []\n",
    "\n",
    "for i in range(len(countries)):\n",
    "    k = countries[i].split(',')\n",
    "    countries_parsed.append(k[2])\n",
    "\n",
    "countries = np.array(countries_parsed)\n",
    "rec_19 = rec.iloc[:, -1].values\n",
    "rec_19_parsed = []\n",
    "\n",
    "for i in range(len(rec_19)):\n",
    "    k = rec_19[i].split(' ')\n",
    "    rec_19_parsed.append(k[0])\n",
    "    \n",
    "rec_19 = np.array(rec_19_parsed)\n",
    "rec_latest = pd.DataFrame({\"country\": countries,\n",
    "                           \"share_recycling\": rec_19, })  \n",
    "\n",
    "rec_latest.drop(1, inplace=True)\n",
    "rec_latest.drop(3, inplace=True)\n",
    "rec_latest.drop(12, inplace=True)\n",
    "rec_latest.drop(13, inplace=True)\n",
    "rec_latest.drop(18, inplace=True)\n",
    "rec_latest.drop(19, inplace=True)\n",
    "rec_latest.drop(24, inplace=True)\n",
    "rec_latest.drop(25, inplace=True)\n",
    "rec_latest.drop(32, inplace=True)\n",
    "rec_latest.drop(37, inplace=True)\n",
    "\n",
    "rec_latest['share_recycling'] = rec_latest.share_recycling.astype(float)\n",
    "rec_latest = rec_latest.sort_values(by='share_recycling')\n",
    "\n",
    "\n",
    "\n",
    "co2 = pd.read_csv('./input/co2-emission.tsv', sep='\\t')\n",
    "\n",
    "countries = co2.iloc[:, 0].values\n",
    "\n",
    "co2_19 = co2.iloc[:, -1].values\n",
    "co2_19_parsed = []\n",
    "\n",
    "for i in range(len(co2_19)):\n",
    "    k = co2_19[i].split(' ')\n",
    "    co2_19_parsed.append(k[0])\n",
    "    \n",
    "co2_19 = np.array(co2_19_parsed)\n",
    "co2_latest = pd.DataFrame({\"country\": countries,\n",
    "                           \"avg_co2\": co2_19, })  \n",
    "\n",
    "co2_latest.drop(10, inplace=True)\n",
    "co2_latest.drop(11, inplace=True)\n",
    "co2_latest.drop(12, inplace=True)\n",
    "\n",
    "co2_latest = co2_latest.sort_values(by='avg_co2')\n",
    "\n",
    "co2_latest['avg_co2'] = co2_latest.avg_co2.astype(float)\n",
    "co2_latest = co2_latest.sort_values(by='avg_co2')\n"
   ]
  },
  {
   "cell_type": "code",
   "execution_count": 3,
   "id": "8d4199dd",
   "metadata": {},
   "outputs": [
    {
     "data": {
      "text/plain": [
       "(   country  share_recycling\n",
       " 26      MT              8.9\n",
       " 36      TR             11.5\n",
       " 31      RO             11.5\n",
       " 5       CY             15.0\n",
       " 10      EL             21.0,\n",
       "    country  avg_co2\n",
       " 25      NO     59.9\n",
       " 24      NL     98.4\n",
       " 23      MT    105.3\n",
       " 27      PT    109.4\n",
       " 6       DK    111.9,\n",
       "    country  ghg_percapita\n",
       " 29      SE            5.2\n",
       " 23      MT            5.3\n",
       " 28      RO            5.9\n",
       " 15      HR            6.0\n",
       " 22      LV            6.1)"
      ]
     },
     "execution_count": 3,
     "metadata": {},
     "output_type": "execute_result"
    }
   ],
   "source": [
    "rec_latest.head(), co2_latest.head(), ghg_latest.head()"
   ]
  },
  {
   "cell_type": "code",
   "execution_count": null,
   "id": "52b21163",
   "metadata": {},
   "outputs": [],
   "source": [
    "environment = pd.merge(rec_latest, ghg_latest, on='country')\n",
    "environment = pd.merge(environment, co2_latest, on='country')"
   ]
  }
 ],
 "metadata": {
  "kernelspec": {
   "display_name": "Python 3",
   "language": "python",
   "name": "python3"
  },
  "language_info": {
   "codemirror_mode": {
    "name": "ipython",
    "version": 3
   },
   "file_extension": ".py",
   "mimetype": "text/x-python",
   "name": "python",
   "nbconvert_exporter": "python",
   "pygments_lexer": "ipython3",
   "version": "3.8.8"
  }
 },
 "nbformat": 4,
 "nbformat_minor": 5
}
